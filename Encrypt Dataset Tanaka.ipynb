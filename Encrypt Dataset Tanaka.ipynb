{
 "cells": [
  {
   "cell_type": "code",
   "execution_count": 1,
   "id": "56f4f3f4",
   "metadata": {},
   "outputs": [],
   "source": [
    "import numpy as np\n",
    "import os\n",
    "import math\n",
    "import pickle\n",
    "\n",
    "from scipy.io import loadmat\n",
    "import matplotlib.pyplot as plt  \n",
    "from pathlib import Path\n",
    "from itertools import product\n",
    "from copy import deepcopy\n"
   ]
  },
  {
   "cell_type": "code",
   "execution_count": 2,
   "id": "076515df",
   "metadata": {},
   "outputs": [
    {
     "name": "stdout",
     "output_type": "stream",
     "text": [
      "['.ipynb_checkpoints', 'data_batch_1', 'data_batch_2', 'data_batch_3', 'Encrypt Dataset.ipynb', 'enc_data', 'test_batch']\n"
     ]
    }
   ],
   "source": [
    "temp_eds = []\n",
    "temp_lbl = []\n",
    "dirs = os.listdir()\n",
    "print(dirs)"
   ]
  },
  {
   "cell_type": "code",
   "execution_count": 3,
   "id": "0e12212b",
   "metadata": {},
   "outputs": [],
   "source": [
    "for file in dirs:\n",
    "    if file[0] == \"t\":\n",
    "        with open(file,'rb') as fo:\n",
    "            ld_dict = pickle.load(fo, encoding = 'bytes')\n",
    "            arr1 = np.array(ld_dict[b'data'])\n",
    "            arr2 = np.array(ld_dict[b'labels'])\n",
    "            img = arr1.reshape([10000,32,32,3])\n",
    "    else:\n",
    "        continue\n",
    "        \n",
    "    \n",
    "    for i in range(len(img)):\n",
    "        curr_img = img[i]\n",
    "        key = np.random.randint(0,(1<<16))\n",
    "        np.random.seed(key)\n",
    "\n",
    "        n = len(curr_img)\n",
    "        m = len(curr_img[0])\n",
    "\n",
    "        #Generating the pixel color exchange key\n",
    "        pi_exc_map_x = np.random.randint(0, 4, size  =  [4,4])\n",
    "        pi_exc_map_y = np.random.randint(0, 4, size  =  [4,4])\n",
    "\n",
    "        #Generating the pixels to be flipped in a box.\n",
    "        flip = np.random.randint(0, 3, size  =  [4,4])\n",
    "\n",
    "        arr = deepcopy(curr_img)\n",
    "\n",
    "        for i,j in product(range(n//4),range(m//4)):\n",
    "            for k,l in product(range(4),range(4)):        \n",
    "                temp = arr[i*4 + k][j*4 + l][flip[k][l]]\n",
    "                arr[i*4 + k][j*4 + l][flip[k][l]] = arr[i*4 + pi_exc_map_x[k][l]][j*4 + pi_exc_map_y[k][l]][flip[k][l]]\n",
    "                arr[i*4 + pi_exc_map_x[k][l]][j*4 + pi_exc_map_y[k][l]][flip[k][l]] = temp\n",
    "        temp_eds.append(arr)\n",
    "        temp_lbl.append(arr2[i])\n",
    "    \n"
   ]
  },
  {
   "cell_type": "code",
   "execution_count": 7,
   "id": "ba09fada",
   "metadata": {},
   "outputs": [],
   "source": [
    "dict_eds = {}\n",
    "dict_eds['data'] = temp_eds\n",
    "dict_eds['lbl'] = temp_lbl"
   ]
  },
  {
   "cell_type": "code",
   "execution_count": 5,
   "id": "4c839f47",
   "metadata": {},
   "outputs": [],
   "source": [
    "pickle.dump(dict_eds, open(\"test_data\", \"wb\"))"
   ]
  }
 ],
 "metadata": {
  "kernelspec": {
   "display_name": "Python 3",
   "language": "python",
   "name": "python3"
  },
  "language_info": {
   "codemirror_mode": {
    "name": "ipython",
    "version": 3
   },
   "file_extension": ".py",
   "mimetype": "text/x-python",
   "name": "python",
   "nbconvert_exporter": "python",
   "pygments_lexer": "ipython3",
   "version": "3.7.1"
  }
 },
 "nbformat": 4,
 "nbformat_minor": 5
}