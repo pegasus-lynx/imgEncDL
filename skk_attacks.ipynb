{
 "metadata": {
  "language_info": {
   "codemirror_mode": {
    "name": "ipython",
    "version": 3
   },
   "file_extension": ".py",
   "mimetype": "text/x-python",
   "name": "python",
   "nbconvert_exporter": "python",
   "pygments_lexer": "ipython3",
   "version": "3.6.9"
  },
  "orig_nbformat": 2,
  "kernelspec": {
   "name": "python369jvsc74a57bd052aacb5b7df882762256a56b3eda96f5b743c896bc75bdc5cb82e8ce864e6583",
   "display_name": "Python 3.6.9 64-bit ('ienc': virtualenvwrapper)"
  }
 },
 "nbformat": 4,
 "nbformat_minor": 2,
 "cells": [
  {
   "cell_type": "code",
   "execution_count": 1,
   "metadata": {},
   "outputs": [
    {
     "output_type": "stream",
     "name": "stderr",
     "text": [
      "/home/parzival/Repos/imgEncDL/src/utils/dataset.py:2: UserWarning: Viewer requires Qt\n  from skimage.viewer import ImageViewer\n"
     ]
    }
   ],
   "source": [
    "from src.utils.dataset import Image"
   ]
  },
  {
   "cell_type": "code",
   "execution_count": 2,
   "metadata": {},
   "outputs": [],
   "source": [
    "from src.attacks.skk_adv_co import SKKCipherOnlyAdv as SkkCA\n",
    "from src.attacks.skk_basic_co import SKKCipherOnlyBasic as SkkCB\n",
    "from src.attacks.skk_plaintext import SKKPlainText as SkkPT\n",
    "\n",
    "from src.schemes.skk import SkkScheme as Skk"
   ]
  },
  {
   "cell_type": "code",
   "execution_count": 3,
   "metadata": {},
   "outputs": [],
   "source": [
    "skk = Skk()\n",
    "# print(skk.key)"
   ]
  },
  {
   "cell_type": "code",
   "execution_count": 4,
   "metadata": {},
   "outputs": [],
   "source": [
    "skk.key = 3750897365"
   ]
  },
  {
   "cell_type": "code",
   "execution_count": 9,
   "metadata": {},
   "outputs": [
    {
     "output_type": "stream",
     "name": "stderr",
     "text": [
      "Lossy conversion from float64 to uint8. Range [0, 1]. Convert image to uint8 prior to saving to suppress this warning.\n"
     ]
    }
   ],
   "source": [
    "img = Image('data/sample/deer/deer2.jpg')\n",
    "img.resize((256,256))\n",
    "Image.save(img, 'data/sample/deer/deer2_256p.jpg')"
   ]
  },
  {
   "cell_type": "code",
   "execution_count": 10,
   "metadata": {},
   "outputs": [],
   "source": [
    "img = Image('data/sample/deer/deer2_256p.jpg')"
   ]
  },
  {
   "cell_type": "code",
   "execution_count": 11,
   "metadata": {},
   "outputs": [],
   "source": [
    "enc_img = skk.encrypt(img)\n",
    "Image.save(enc_img)"
   ]
  },
  {
   "cell_type": "code",
   "execution_count": 5,
   "metadata": {},
   "outputs": [],
   "source": [
    "enc_img = Image('data/sample/deer/deer2_256p.skk.jpg')"
   ]
  },
  {
   "cell_type": "code",
   "execution_count": 12,
   "metadata": {},
   "outputs": [],
   "source": [
    "dec_img = skk.decrypt(enc_img)\n",
    "Image.save(dec_img, 'data/sample/deer/deer2_256p.dec.skk.jpg')"
   ]
  },
  {
   "cell_type": "code",
   "execution_count": 14,
   "metadata": {},
   "outputs": [],
   "source": [
    "ack_img_basic = SkkCB.attack(enc_img, leading_bit=0)\n",
    "Image.save(ack_img_basic, 'data/sample/deer/deer2_256.scb0.skk.jpg')"
   ]
  },
  {
   "cell_type": "code",
   "execution_count": 15,
   "metadata": {},
   "outputs": [],
   "source": [
    "ack_img_basic = SkkCB.attack(enc_img, leading_bit=1)\n",
    "Image.save(ack_img_basic, 'data/sample/deer/deer2_256.scb1.skk.jpg')"
   ]
  },
  {
   "cell_type": "code",
   "execution_count": 16,
   "metadata": {},
   "outputs": [],
   "source": [
    "ack_img_pt = SkkPT.attack(enc_img, skk)\n",
    "Image.save(ack_img_pt, 'data/sample/deer/deer2_256.spt.skk.jpg')"
   ]
  },
  {
   "cell_type": "code",
   "execution_count": 6,
   "metadata": {},
   "outputs": [],
   "source": [
    "ack_img_adv = SkkCA.attack(enc_img)\n",
    "Image.save(ack_img_adv, 'data/sample/deer/deer2_256.sca.skk.jpg')"
   ]
  },
  {
   "cell_type": "code",
   "execution_count": null,
   "metadata": {},
   "outputs": [],
   "source": []
  }
 ]
}